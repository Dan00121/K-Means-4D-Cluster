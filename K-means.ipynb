{
 "cells": [
  {
   "cell_type": "code",
   "execution_count": 1,
   "metadata": {
    "collapsed": true,
    "scrolled": true
   },
   "outputs": [],
   "source": [
    "import pandas as pd\n",
    "import numpy as np\n",
    "import matplotlib.pyplot as plt\n",
    "df = pd.read_csv('4dinput.csv')  #使用panda讀取 4D space資料  "
   ]
  },
  {
   "cell_type": "code",
   "execution_count": 2,
   "metadata": {
    "collapsed": true
   },
   "outputs": [],
   "source": [
    "def cluster(df,cen):\n",
    "    for i in cen.keys():\n",
    "        df['dis_from_{}'.format(i)] = (\n",
    "        np.sqrt( ( ( df['1']-cen[i][0] )**2 )\n",
    "                +( ( df['2']-cen[i][1] )**2 )\n",
    "                +( ( df['3']-cen[i][2] )**2 )\n",
    "                +( ( df['4']-cen[i][3] )**2 ) ))\n",
    "    cen_dis_cols = ['dis_from_{}'.format(i) for i in cen.keys()]\n",
    "    df['closest'] = df.loc[:,cen_dis_cols].idxmin(axis=1)\n",
    "    df['closest'] = df['closest'].map(lambda x:int(x.lstrip('dis_from_')))\n",
    "    return df"
   ]
  },
  {
   "cell_type": "code",
   "execution_count": 3,
   "metadata": {},
   "outputs": [],
   "source": [
    "def update(df,cen):\n",
    "    for i in cen.keys():\n",
    "        cen[i][0] = np.mean(df[df['closest'] == i]['1'])\n",
    "        cen[i][1] = np.mean(df[df['closest'] == i]['2'])\n",
    "        cen[i][2] = np.mean(df[df['closest'] == i]['3'])\n",
    "        cen[i][3] = np.mean(df[df['closest'] == i]['4'])\n",
    "    return cen"
   ]
  },
  {
   "cell_type": "code",
   "execution_count": 4,
   "metadata": {},
   "outputs": [],
   "source": [
    "def kmeans(df,k):\n",
    "    #Step1:根據K指定數隨機產生中心點\n",
    "    k1 = np.random.randint(0, 300, k)\n",
    "    k2 = np.random.randint(0, 300, k)\n",
    "    k3 = np.random.randint(0, 300, k)\n",
    "    k4 = np.random.randint(0, 300, k)\n",
    "    cen = {\n",
    "        i+1:[k1[i],k2[i],k3[i],k4[i]]\n",
    "        for i in range (k)\n",
    "        }\n",
    "    while True:\n",
    "        df = cluster(df,cen) #Step2:將每個點指定到離自己最近的中心\n",
    "        closest_cen = df['closest'].copy(deep=True)\n",
    "        cen = update(df,cen) #Step3:使用平均值計算新的中心點\n",
    "        if closest_cen.equals(df['closest']): #Step4:如果群集中心收斂不動表示分類完成\n",
    "            break\n",
    "            \n",
    "    return df"
   ]
  },
  {
   "cell_type": "code",
   "execution_count": 5,
   "metadata": {
    "scrolled": true
   },
   "outputs": [
    {
     "name": "stdout",
     "output_type": "stream",
     "text": [
      "[3197614.0, 3784762.0, 1787076.0, 2379305.0, 901769.0, 1536667.0, 1670292.0, 2200520.0]\n"
     ]
    }
   ],
   "source": [
    "import copy\n",
    "distortion = []\n",
    "for k in range(2,10):\n",
    "    testdf = copy.deepcopy(df)\n",
    "    testdf = kmeans(testdf,k)\n",
    "    dis = 0 \n",
    "    for i in range (1,k+1):\n",
    "        sse = np.square(testdf[testdf['closest'] == i]['dis_from_{}'.format(i)])\n",
    "        dis = dis + sse.sum()\n",
    "    distortion.append(dis)\n",
    "    \n",
    "print(distortion)"
   ]
  },
  {
   "cell_type": "code",
   "execution_count": 6,
   "metadata": {},
   "outputs": [
    {
     "data": {
      "image/png": "[encoded data removed]",
      "text/plain": [
       "<matplotlib.figure.Figure at 0x1dbc15943c8>"
      ]
     },
     "metadata": {},
     "output_type": "display_data"
    }
   ],
   "source": [
    "plt.plot(range(2,10),distortion)\n",
    "plt.xlabel('k')\n",
    "plt.ylabel('distortion')\n",
    "plt.show()"
   ]
  },
  {
   "cell_type": "code",
   "execution_count": 9,
   "metadata": {},
   "outputs": [
    {
     "data": {
      "text/html": [
       "<div>\n",
       "<style>\n",
       "    .dataframe thead tr:only-child th {\n",
       "        text-align: right;\n",
       "    }\n",
       "\n",
       "    .dataframe thead th {\n",
       "        text-align: left;\n",
       "    }\n",
       "\n",
       "    .dataframe tbody tr th {\n",
       "        vertical-align: top;\n",
       "    }\n",
       "</style>\n",
       "<table border=\"1\" class=\"dataframe\">\n",
       "  <thead>\n",
       "    <tr style=\"text-align: right;\">\n",
       "      <th></th>\n",
       "      <th>1</th>\n",
       "      <th>2</th>\n",
       "      <th>3</th>\n",
       "      <th>4</th>\n",
       "      <th>dis_from_1</th>\n",
       "      <th>dis_from_2</th>\n",
       "      <th>dis_from_3</th>\n",
       "      <th>dis_from_4</th>\n",
       "      <th>closest</th>\n",
       "    </tr>\n",
       "  </thead>\n",
       "  <tbody>\n",
       "    <tr>\n",
       "      <th>0</th>\n",
       "      <td>21</td>\n",
       "      <td>49</td>\n",
       "      <td>31</td>\n",
       "      <td>251</td>\n",
       "      <td>176.252660</td>\n",
       "      <td>326.491960</td>\n",
       "      <td>243.739615</td>\n",
       "      <td>251.741931</td>\n",
       "      <td>1</td>\n",
       "    </tr>\n",
       "    <tr>\n",
       "      <th>1</th>\n",
       "      <td>21</td>\n",
       "      <td>53</td>\n",
       "      <td>25</td>\n",
       "      <td>244</td>\n",
       "      <td>171.604196</td>\n",
       "      <td>325.186101</td>\n",
       "      <td>242.812685</td>\n",
       "      <td>250.073989</td>\n",
       "      <td>1</td>\n",
       "    </tr>\n",
       "    <tr>\n",
       "      <th>2</th>\n",
       "      <td>21</td>\n",
       "      <td>105</td>\n",
       "      <td>41</td>\n",
       "      <td>267</td>\n",
       "      <td>132.442440</td>\n",
       "      <td>310.465779</td>\n",
       "      <td>257.482038</td>\n",
       "      <td>246.945338</td>\n",
       "      <td>1</td>\n",
       "    </tr>\n",
       "    <tr>\n",
       "      <th>3</th>\n",
       "      <td>81</td>\n",
       "      <td>66</td>\n",
       "      <td>239</td>\n",
       "      <td>97</td>\n",
       "      <td>258.654209</td>\n",
       "      <td>130.499042</td>\n",
       "      <td>75.881487</td>\n",
       "      <td>98.320903</td>\n",
       "      <td>3</td>\n",
       "    </tr>\n",
       "    <tr>\n",
       "      <th>4</th>\n",
       "      <td>69</td>\n",
       "      <td>3</td>\n",
       "      <td>132</td>\n",
       "      <td>73</td>\n",
       "      <td>257.219750</td>\n",
       "      <td>222.072060</td>\n",
       "      <td>75.762788</td>\n",
       "      <td>144.294837</td>\n",
       "      <td>3</td>\n",
       "    </tr>\n",
       "    <tr>\n",
       "      <th>5</th>\n",
       "      <td>228</td>\n",
       "      <td>29</td>\n",
       "      <td>193</td>\n",
       "      <td>207</td>\n",
       "      <td>281.634515</td>\n",
       "      <td>227.741081</td>\n",
       "      <td>170.334964</td>\n",
       "      <td>168.780923</td>\n",
       "      <td>4</td>\n",
       "    </tr>\n",
       "    <tr>\n",
       "      <th>6</th>\n",
       "      <td>22</td>\n",
       "      <td>132</td>\n",
       "      <td>63</td>\n",
       "      <td>198</td>\n",
       "      <td>90.586975</td>\n",
       "      <td>250.543409</td>\n",
       "      <td>209.389589</td>\n",
       "      <td>191.360916</td>\n",
       "      <td>1</td>\n",
       "    </tr>\n",
       "    <tr>\n",
       "      <th>7</th>\n",
       "      <td>15</td>\n",
       "      <td>158</td>\n",
       "      <td>29</td>\n",
       "      <td>167</td>\n",
       "      <td>84.320816</td>\n",
       "      <td>263.343882</td>\n",
       "      <td>230.837605</td>\n",
       "      <td>208.247449</td>\n",
       "      <td>1</td>\n",
       "    </tr>\n",
       "    <tr>\n",
       "      <th>8</th>\n",
       "      <td>25</td>\n",
       "      <td>127</td>\n",
       "      <td>55</td>\n",
       "      <td>232</td>\n",
       "      <td>97.775252</td>\n",
       "      <td>273.828413</td>\n",
       "      <td>231.140650</td>\n",
       "      <td>213.759210</td>\n",
       "      <td>1</td>\n",
       "    </tr>\n",
       "    <tr>\n",
       "      <th>9</th>\n",
       "      <td>16</td>\n",
       "      <td>118</td>\n",
       "      <td>40</td>\n",
       "      <td>277</td>\n",
       "      <td>129.784437</td>\n",
       "      <td>316.230928</td>\n",
       "      <td>270.536504</td>\n",
       "      <td>256.372775</td>\n",
       "      <td>1</td>\n",
       "    </tr>\n",
       "  </tbody>\n",
       "</table>\n",
       "</div>"
      ],
      "text/plain": [
       "     1    2    3    4  dis_from_1  dis_from_2  dis_from_3  dis_from_4  closest\n",
       "0   21   49   31  251  176.252660  326.491960  243.739615  251.741931        1\n",
       "1   21   53   25  244  171.604196  325.186101  242.812685  250.073989        1\n",
       "2   21  105   41  267  132.442440  310.465779  257.482038  246.945338        1\n",
       "3   81   66  239   97  258.654209  130.499042   75.881487   98.320903        3\n",
       "4   69    3  132   73  257.219750  222.072060   75.762788  144.294837        3\n",
       "5  228   29  193  207  281.634515  227.741081  170.334964  168.780923        4\n",
       "6   22  132   63  198   90.586975  250.543409  209.389589  191.360916        1\n",
       "7   15  158   29  167   84.320816  263.343882  230.837605  208.247449        1\n",
       "8   25  127   55  232   97.775252  273.828413  231.140650  213.759210        1\n",
       "9   16  118   40  277  129.784437  316.230928  270.536504  256.372775        1"
      ]
     },
     "execution_count": 9,
     "metadata": {},
     "output_type": "execute_result"
    }
   ],
   "source": [
    "df = kmeans(df,4)\n",
    "df.head(10)"
   ]
  }
 ],
 "metadata": {
  "kernelspec": {
   "display_name": "Python 3",
   "language": "python",
   "name": "python3"
  },
  "language_info": {
   "codemirror_mode": {
    "name": "ipython",
    "version": 3
   },
   "file_extension": ".py",
   "mimetype": "text/x-python",
   "name": "python",
   "nbconvert_exporter": "python",
   "pygments_lexer": "ipython3",
   "version": "3.6.3"
  }
 },
 "nbformat": 4,
 "nbformat_minor": 2
}
